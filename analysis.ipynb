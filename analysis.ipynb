{
 "cells": [
  {
   "cell_type": "markdown",
   "metadata": {},
   "source": [
    "# Compressor analysis\n",
    "\n",
    "## Database structure\n",
    "\n",
    "The following analysis relies on data gathered in `compression.db` which has the following structure:\n",
    "\n",
    "* **compressors**(*compressor*)\n",
    "\n",
    "  This table stores the list of all compressors to be tested by the script, e.g. `('lz4',)`\n",
    "\n",
    "\n",
    "* **options**(*compressor*, *options*)\n",
    "\n",
    "  This table stores the list of all combinations of compressors and command line options to be tested by the script, e.g. `('lz4', '-9')`\n",
    "\n",
    "\n",
    "* **results**(*machine*, *arch*, *compressor*, *options*, succeeded, elapsed, max_resident, ratio)\n",
    "\n",
    "  This is the \"main\" table, storing the results of all compression runs. It is keyed by the machine's label, architecture, the compressor being tested, and its command line options. The non-key attributes are a boolean (0 or 1) indicating whether the test succeeded, the number of seconds elapsed during the test, the maximum resident memory used (in kilobytes), and the compression ratio achieved (a value > 0.0 and hopefully < 1)\n",
    "\n",
    "## Data gathering\n",
    "\n",
    "If you wish to add entries to the database, use the `gather.py` script in the repo. You will need some (preferably uncompressed) data to work with. I would suggest the uncompressed copy of the platform's initrd (as that's what this is ultimately all about) which can be obtained (on Ubuntu Pi images) like so:\n",
    "\n",
    "```\n",
    "$ zstdcat /boot/firmware/initrd.img > initrd.cpio\n",
    "```\n",
    "\n",
    "Then, to add rows for your machine to the database:\n",
    "\n",
    "```\n",
    "$ python3 gather.py --machine 'Pi 3B' initrd.cpio\n",
    "Testing gzip -1\n",
    "Testing gzip -2\n",
    "...\n",
    "```\n",
    "\n",
    "You need to provide some label for your machine with the `--machine` option, which should be vaguely descriptive of the hardware you are running on. The machine's architecture will be queried with `dpkg`, and you will need all compressors that are to be tested, installed. Needless to say, tests should be run on an otherwise idle system.\n",
    "\n",
    "The script will only run tests that have not yet been recorded in the database for the specific combination of machine, architecture, compressor, and options. In other words, if a run is interrupted for some reason, it can be carried on without repeating earlier tests (this is useful for forcibly skipping tests \n",
    "\n",
    "## Analysis"
   ]
  },
  {
   "cell_type": "code",
   "execution_count": 1,
   "metadata": {},
   "outputs": [],
   "source": [
    "import sqlite3\n",
    "import matplotlib.pyplot as plt\n",
    "from html import escape\n",
    "from IPython.core.display import HTML\n",
    "%matplotlib inline"
   ]
  },
  {
   "cell_type": "code",
   "execution_count": 9,
   "metadata": {},
   "outputs": [],
   "source": [
    "conn = sqlite3.connect('bikeshed.db')"
   ]
  },
  {
   "cell_type": "code",
   "execution_count": 10,
   "metadata": {},
   "outputs": [],
   "source": [
    "def show_query(sql):\n",
    "    cur = conn.execute(sql)\n",
    "    columns = [r[0] for r in cur.description]\n",
    "    rows = list(cur)\n",
    "    cur.close()\n",
    "    headers = \"\".join(\n",
    "        f\"<th>{escape(str(header).title())}</th>\"\n",
    "        for header in columns\n",
    "    )\n",
    "    data = \"\\n\".join(\n",
    "        f\"<tr>{html_row}</tr>\"\n",
    "        for row in rows\n",
    "        for html_row in (\"\".join(\n",
    "            f\"<td>{escape(str(cell))}</td>\"\n",
    "            for cell in row\n",
    "        ),)\n",
    "    )\n",
    "    return f\"\"\"\n",
    "<table>\n",
    "<thead><tr>{headers}</tr></thead>\n",
    "<tbody>{data}</tbody>\n",
    "</table>\"\"\""
   ]
  },
  {
   "cell_type": "markdown",
   "metadata": {},
   "source": [
    "### Machines tested"
   ]
  },
  {
   "cell_type": "code",
   "execution_count": 8,
   "metadata": {},
   "outputs": [
    {
     "data": {
      "text/html": [
       "\n",
       "<table>\n",
       "<thead><tr><th>Machine</th><th>Arch</th></tr></thead>\n",
       "<tbody><tr><td>AMD Opteron</td><td>amd64</td></tr>\n",
       "<tr><td>AMD Ryzen</td><td>amd64</td></tr>\n",
       "<tr><td>Pi 4 8GB</td><td>arm64</td></tr>\n",
       "<tr><td>Pi 4 8GB</td><td>armhf</td></tr>\n",
       "<tr><td>Pi Zero 2</td><td>armhf</td></tr></tbody>\n",
       "</table>"
      ],
      "text/plain": [
       "<IPython.core.display.HTML object>"
      ]
     },
     "execution_count": 8,
     "metadata": {},
     "output_type": "execute_result"
    }
   ],
   "source": [
    "HTML(show_query(\"\"\"\n",
    "SELECT DISTINCT machine, arch\n",
    "FROM results\n",
    "\"\"\"))"
   ]
  },
  {
   "cell_type": "markdown",
   "metadata": {},
   "source": [
    "### Dangerous combinations\n",
    "\n",
    "Show all compressor+option combinations that failed to produce a result"
   ]
  },
  {
   "cell_type": "code",
   "execution_count": 3,
   "metadata": {
    "scrolled": true
   },
   "outputs": [
    {
     "data": {
      "text/html": [
       "\n",
       "<table>\n",
       "<thead><tr><th>Machine</th><th>Arch</th><th>Compressor</th><th>Options</th></tr></thead>\n",
       "<tbody><tr><td>Pi Zero 2</td><td>armhf</td><td>xz</td><td>-8</td></tr>\n",
       "<tr><td>Pi Zero 2</td><td>armhf</td><td>xz</td><td>-9</td></tr>\n",
       "<tr><td>Pi Zero 2</td><td>armhf</td><td>xz</td><td>-e -8</td></tr>\n",
       "<tr><td>Pi Zero 2</td><td>armhf</td><td>xz</td><td>-e -9</td></tr>\n",
       "<tr><td>Pi Zero 2</td><td>armhf</td><td>zstd</td><td>-T0 -14</td></tr>\n",
       "<tr><td>Pi Zero 2</td><td>armhf</td><td>zstd</td><td>-T0 -15</td></tr>\n",
       "<tr><td>Pi Zero 2</td><td>armhf</td><td>zstd</td><td>-T0 -19</td></tr></tbody>\n",
       "</table>"
      ],
      "text/plain": [
       "<IPython.core.display.HTML object>"
      ]
     },
     "execution_count": 3,
     "metadata": {},
     "output_type": "execute_result"
    }
   ],
   "source": [
    "HTML(show_query(\"\"\"\n",
    "SELECT machine, arch, compressor, options\n",
    "FROM results\n",
    "WHERE succeeded = 0\n",
    "\"\"\"))"
   ]
  },
  {
   "cell_type": "markdown",
   "metadata": {},
   "source": [
    "### Silly combinations\n",
    "\n",
    "Show all compressor+option combinations that took more than 20 seconds to produce a result"
   ]
  },
  {
   "cell_type": "code",
   "execution_count": 4,
   "metadata": {},
   "outputs": [
    {
     "data": {
      "text/html": [
       "\n",
       "<table>\n",
       "<thead><tr><th>Machine</th><th>Compressor</th><th>Options</th><th>Elapsed</th></tr></thead>\n",
       "<tbody><tr><td>Pi 4 8GB</td><td>xz</td><td>-e -9</td><td>311.71</td></tr>\n",
       "<tr><td>Pi 4 8GB</td><td>xz</td><td>-e -8</td><td>288.21</td></tr>\n",
       "<tr><td>Pi 4 8GB</td><td>xz</td><td>-e -7</td><td>274.09</td></tr>\n",
       "<tr><td>Pi 4 8GB</td><td>xz</td><td>-e -6</td><td>256.3</td></tr>\n",
       "<tr><td>Pi 4 8GB</td><td>xz</td><td>-e -4</td><td>239.38</td></tr>\n",
       "<tr><td>Pi 4 8GB</td><td>xz</td><td>-e -5</td><td>237.94</td></tr>\n",
       "<tr><td>Pi 4 8GB</td><td>xz</td><td>-9</td><td>237.6</td></tr>\n",
       "<tr><td>Pi 4 8GB</td><td>xz</td><td>-e -2</td><td>226.93</td></tr>\n",
       "<tr><td>Pi 4 8GB</td><td>xz</td><td>-e -3</td><td>224.09</td></tr>\n",
       "<tr><td>Pi 4 8GB</td><td>xz</td><td>-8</td><td>221.13</td></tr>\n",
       "<tr><td>Pi Zero 2</td><td>xz</td><td>-e -7</td><td>212.08</td></tr>\n",
       "<tr><td>Pi 4 8GB</td><td>xz</td><td>-7</td><td>208.72</td></tr>\n",
       "<tr><td>Pi 4 8GB</td><td>xz</td><td>-e -1</td><td>206.41</td></tr>\n",
       "<tr><td>Pi Zero 2</td><td>xz</td><td>-e -6</td><td>202.21</td></tr>\n",
       "<tr><td>Pi 4 8GB</td><td>zstd</td><td>-19</td><td>200.29</td></tr>\n",
       "<tr><td>Pi 4 8GB</td><td>xz</td><td>-6</td><td>198.14</td></tr>\n",
       "<tr><td>Pi Zero 2</td><td>zstd</td><td>-19</td><td>197.73</td></tr>\n",
       "<tr><td>Pi Zero 2</td><td>xz</td><td>-e -4</td><td>191.02</td></tr>\n",
       "<tr><td>Pi Zero 2</td><td>xz</td><td>-e -5</td><td>188.32</td></tr>\n",
       "<tr><td>Pi Zero 2</td><td>xz</td><td>-e -2</td><td>181.93</td></tr>\n",
       "<tr><td>Pi 4 8GB</td><td>xz</td><td>-e -0</td><td>180.21</td></tr>\n",
       "<tr><td>Pi Zero 2</td><td>xz</td><td>-e -3</td><td>179.59</td></tr>\n",
       "<tr><td>Pi Zero 2</td><td>xz</td><td>-e -1</td><td>171.51</td></tr>\n",
       "<tr><td>Pi 4 8GB</td><td>xz</td><td>-5</td><td>170.37</td></tr>\n",
       "<tr><td>Pi Zero 2</td><td>xz</td><td>-7</td><td>166.79</td></tr>\n",
       "<tr><td>Pi 4 8GB</td><td>zstd</td><td>-18</td><td>158.67</td></tr>\n",
       "<tr><td>Pi Zero 2</td><td>xz</td><td>-6</td><td>158.14</td></tr>\n",
       "<tr><td>Pi Zero 2</td><td>xz</td><td>-e -0</td><td>155.01</td></tr>\n",
       "<tr><td>Pi Zero 2</td><td>zstd</td><td>-18</td><td>151.04</td></tr>\n",
       "<tr><td>AMD Opteron</td><td>xz</td><td>-e -9</td><td>144.88</td></tr>\n",
       "<tr><td>Pi Zero 2</td><td>xz</td><td>-5</td><td>140.96</td></tr>\n",
       "<tr><td>AMD Opteron</td><td>xz</td><td>-e -8</td><td>134.77</td></tr>\n",
       "<tr><td>AMD Opteron</td><td>xz</td><td>-e -7</td><td>127.82</td></tr>\n",
       "<tr><td>AMD Opteron</td><td>xz</td><td>-9</td><td>120.06</td></tr>\n",
       "<tr><td>AMD Opteron</td><td>xz</td><td>-e -6</td><td>117.61</td></tr>\n",
       "<tr><td>AMD Opteron</td><td>zstd</td><td>-19</td><td>116.08</td></tr>\n",
       "<tr><td>Pi 4 8GB</td><td>xz</td><td>-4</td><td>116</td></tr>\n",
       "<tr><td>AMD Opteron</td><td>xz</td><td>-e -4</td><td>113.81</td></tr>\n",
       "<tr><td>Pi Zero 2</td><td>xz</td><td>-4</td><td>113.48</td></tr>\n",
       "<tr><td>AMD Opteron</td><td>xz</td><td>-e -5</td><td>112.82</td></tr>\n",
       "<tr><td>AMD Opteron</td><td>xz</td><td>-8</td><td>111.2</td></tr>\n",
       "<tr><td>Pi 4 8GB</td><td>zstd</td><td>-17</td><td>110.24</td></tr>\n",
       "<tr><td>Pi Zero 2</td><td>zstd</td><td>-17</td><td>108.67</td></tr>\n",
       "<tr><td>AMD Opteron</td><td>xz</td><td>-e -3</td><td>105.73</td></tr>\n",
       "<tr><td>AMD Opteron</td><td>xz</td><td>-7</td><td>105.71</td></tr>\n",
       "<tr><td>AMD Opteron</td><td>xz</td><td>-e -2</td><td>104.17</td></tr>\n",
       "<tr><td>Pi 4 8GB</td><td>gzip</td><td>-9</td><td>102.8</td></tr>\n",
       "<tr><td>AMD Opteron</td><td>xz</td><td>-6</td><td>98.76</td></tr>\n",
       "<tr><td>Pi 4 8GB</td><td>xz</td><td>-3</td><td>97.72</td></tr>\n",
       "<tr><td>AMD Opteron</td><td>xz</td><td>-e -1</td><td>94.88</td></tr>\n",
       "<tr><td>AMD Opteron</td><td>zstd</td><td>-18</td><td>93.04</td></tr>\n",
       "<tr><td>Pi 4 8GB</td><td>xz</td><td>-e -9</td><td>91.08</td></tr>\n",
       "<tr><td>Pi 4 8GB</td><td>zstd</td><td>-T0 -19</td><td>89.72</td></tr>\n",
       "<tr><td>Pi Zero 2</td><td>zstd</td><td>-T0 -18</td><td>87.7</td></tr>\n",
       "<tr><td>Pi 4 8GB</td><td>xz</td><td>-e -8</td><td>87.33</td></tr>\n",
       "<tr><td>Pi 4 8GB</td><td>zstd</td><td>-16</td><td>87.17</td></tr>\n",
       "<tr><td>AMD Opteron</td><td>xz</td><td>-5</td><td>87.04</td></tr>\n",
       "<tr><td>Pi 4 8GB</td><td>xz</td><td>-e -7</td><td>84.03</td></tr>\n",
       "<tr><td>Pi Zero 2</td><td>zstd</td><td>-16</td><td>83.23</td></tr>\n",
       "<tr><td>AMD Opteron</td><td>xz</td><td>-e -0</td><td>82.66</td></tr>\n",
       "<tr><td>Pi 4 8GB</td><td>xz</td><td>-e -6</td><td>79.18</td></tr>\n",
       "<tr><td>Pi 4 8GB</td><td>xz</td><td>-9</td><td>75.59</td></tr>\n",
       "<tr><td>Pi 4 8GB</td><td>zstd</td><td>-19</td><td>75.43</td></tr>\n",
       "<tr><td>Pi 4 8GB</td><td>xz</td><td>-e -5</td><td>74.59</td></tr>\n",
       "<tr><td>Pi 4 8GB</td><td>xz</td><td>-e -4</td><td>73.76</td></tr>\n",
       "<tr><td>Pi 4 8GB</td><td>xz</td><td>-8</td><td>72.4</td></tr>\n",
       "<tr><td>Pi Zero 2</td><td>xz</td><td>-3</td><td>71.29</td></tr>\n",
       "<tr><td>Pi 4 8GB</td><td>xz</td><td>-e -3</td><td>69.84</td></tr>\n",
       "<tr><td>Pi 4 8GB</td><td>xz</td><td>-7</td><td>69.22</td></tr>\n",
       "<tr><td>Pi 4 8GB</td><td>xz</td><td>-e -2</td><td>68.85</td></tr>\n",
       "<tr><td>AMD Opteron</td><td>zstd</td><td>-17</td><td>66.84</td></tr>\n",
       "<tr><td>Pi 4 8GB</td><td>zstd</td><td>-T0 -18</td><td>66.7</td></tr>\n",
       "<tr><td>Pi Zero 2</td><td>gzip</td><td>-9</td><td>65.91</td></tr>\n",
       "<tr><td>Pi Zero 2</td><td>zstd</td><td>-T0 -17</td><td>65.89</td></tr>\n",
       "<tr><td>Pi 4 8GB</td><td>xz</td><td>-6</td><td>65.04</td></tr>\n",
       "<tr><td>Pi 4 8GB</td><td>xz</td><td>-e -1</td><td>64.25</td></tr>\n",
       "<tr><td>AMD Opteron</td><td>zstd</td><td>-T0 -19</td><td>64.07</td></tr>\n",
       "<tr><td>Pi 4 8GB</td><td>xz</td><td>-2</td><td>63.51</td></tr>\n",
       "<tr><td>AMD Ryzen</td><td>xz</td><td>-e -9</td><td>63.16</td></tr>\n",
       "<tr><td>AMD Opteron</td><td>xz</td><td>-4</td><td>62.2</td></tr>\n",
       "<tr><td>Pi 4 8GB</td><td>zstd</td><td>-15</td><td>61.72</td></tr>\n",
       "<tr><td>Pi 4 8GB</td><td>zstd</td><td>-18</td><td>59.12</td></tr>\n",
       "<tr><td>Pi 4 8GB</td><td>xz</td><td>-5</td><td>58.97</td></tr>\n",
       "<tr><td>AMD Ryzen</td><td>xz</td><td>-e -8</td><td>58.85</td></tr>\n",
       "<tr><td>AMD Ryzen</td><td>xz</td><td>-e -7</td><td>55.75</td></tr>\n",
       "<tr><td>Pi 4 8GB</td><td>xz</td><td>-e -0</td><td>55.49</td></tr>\n",
       "<tr><td>Pi Zero 2</td><td>xz</td><td>-2</td><td>55.41</td></tr>\n",
       "<tr><td>Pi Zero 2</td><td>zstd</td><td>-15</td><td>54.88</td></tr>\n",
       "<tr><td>AMD Opteron</td><td>xz</td><td>-3</td><td>52.59</td></tr>\n",
       "<tr><td>AMD Opteron</td><td>zstd</td><td>-16</td><td>52.54</td></tr>\n",
       "<tr><td>Pi 4 8GB</td><td>zstd</td><td>-T0 -17</td><td>52.4</td></tr>\n",
       "<tr><td>AMD Opteron</td><td>zstd</td><td>-T0 -18</td><td>52.3</td></tr>\n",
       "<tr><td>AMD Ryzen</td><td>xz</td><td>-e -6</td><td>51.71</td></tr>\n",
       "<tr><td>AMD Ryzen</td><td>xz</td><td>-9</td><td>51.53</td></tr>\n",
       "<tr><td>AMD Ryzen</td><td>xz</td><td>-8</td><td>49.51</td></tr>\n",
       "<tr><td>AMD Ryzen</td><td>xz</td><td>-e -5</td><td>48.66</td></tr>\n",
       "<tr><td>Pi 4 8GB</td><td>xz</td><td>-4</td><td>47.92</td></tr>\n",
       "<tr><td>AMD Ryzen</td><td>xz</td><td>-e -4</td><td>47.01</td></tr>\n",
       "<tr><td>Pi 4 8GB</td><td>gzip</td><td>-8</td><td>46.85</td></tr>\n",
       "<tr><td>AMD Opteron</td><td>gzip</td><td>-9</td><td>46.49</td></tr>\n",
       "<tr><td>AMD Ryzen</td><td>xz</td><td>-7</td><td>46.45</td></tr>\n",
       "<tr><td>Pi 4 8GB</td><td>zstd</td><td>-T0 -19</td><td>45.87</td></tr>\n",
       "<tr><td>Pi 4 8GB</td><td>zstd</td><td>-14</td><td>45.11</td></tr>\n",
       "<tr><td>Pi Zero 2</td><td>xz</td><td>-1</td><td>44.85</td></tr>\n",
       "<tr><td>Pi Zero 2</td><td>zstd</td><td>-14</td><td>44.44</td></tr>\n",
       "<tr><td>AMD Ryzen</td><td>xz</td><td>-e -3</td><td>44.39</td></tr>\n",
       "<tr><td>Pi 4 8GB</td><td>zstd</td><td>-17</td><td>43.94</td></tr>\n",
       "<tr><td>AMD Ryzen</td><td>zstd</td><td>-19</td><td>43.84</td></tr>\n",
       "<tr><td>AMD Ryzen</td><td>xz</td><td>-6</td><td>43.66</td></tr>\n",
       "<tr><td>AMD Ryzen</td><td>xz</td><td>-e -2</td><td>43.14</td></tr>\n",
       "<tr><td>Pi 4 8GB</td><td>zstd</td><td>-T0 -16</td><td>42.57</td></tr>\n",
       "<tr><td>Pi 4 8GB</td><td>xz</td><td>-1</td><td>42.12</td></tr>\n",
       "<tr><td>Pi 4 8GB</td><td>zstd</td><td>-13</td><td>40.99</td></tr>\n",
       "<tr><td>Pi Zero 2</td><td>zstd</td><td>-13</td><td>40.95</td></tr>\n",
       "<tr><td>Pi Zero 2</td><td>gzip</td><td>-8</td><td>40.49</td></tr>\n",
       "<tr><td>AMD Ryzen</td><td>xz</td><td>-e -1</td><td>39.47</td></tr>\n",
       "<tr><td>AMD Ryzen</td><td>xz</td><td>-5</td><td>38.54</td></tr>\n",
       "<tr><td>AMD Opteron</td><td>zstd</td><td>-T0 -17</td><td>37.8</td></tr>\n",
       "<tr><td>AMD Opteron</td><td>xz</td><td>-2</td><td>37.04</td></tr>\n",
       "<tr><td>Pi Zero 2</td><td>zstd</td><td>-T0 -16</td><td>36.33</td></tr>\n",
       "<tr><td>AMD Ryzen</td><td>xz</td><td>-e -0</td><td>36.2</td></tr>\n",
       "<tr><td>Pi 4 8GB</td><td>xz</td><td>-3</td><td>35.89</td></tr>\n",
       "<tr><td>Pi 4 8GB</td><td>zstd</td><td>-T0 -18</td><td>35.87</td></tr>\n",
       "<tr><td>AMD Opteron</td><td>zstd</td><td>-15</td><td>35.79</td></tr>\n",
       "<tr><td>Pi 4 8GB</td><td>zstd</td><td>-T0 -15</td><td>35.49</td></tr>\n",
       "<tr><td>AMD Ryzen</td><td>zstd</td><td>-18</td><td>34.58</td></tr>\n",
       "<tr><td>Pi Zero 2</td><td>zstd</td><td>-12</td><td>34.53</td></tr>\n",
       "<tr><td>Pi 4 8GB</td><td>zstd</td><td>-16</td><td>33.61</td></tr>\n",
       "<tr><td>Pi Zero 2</td><td>xz</td><td>-0</td><td>33.48</td></tr>\n",
       "<tr><td>Pi 4 8GB</td><td>zstd</td><td>-12</td><td>32.39</td></tr>\n",
       "<tr><td>AMD Ryzen</td><td>gzip</td><td>-9</td><td>29.9</td></tr>\n",
       "<tr><td>Pi Zero 2</td><td>zstd</td><td>-11</td><td>29.11</td></tr>\n",
       "<tr><td>Pi 4 8GB</td><td>xz</td><td>-0</td><td>28.09</td></tr>\n",
       "<tr><td>AMD Opteron</td><td>zstd</td><td>-T0 -16</td><td>27.64</td></tr>\n",
       "<tr><td>AMD Opteron</td><td>zstd</td><td>-14</td><td>27.56</td></tr>\n",
       "<tr><td>Pi Zero 2</td><td>zstd</td><td>-10</td><td>27.52</td></tr>\n",
       "<tr><td>Pi 4 8GB</td><td>zstd</td><td>-T0 -17</td><td>27.47</td></tr>\n",
       "<tr><td>Pi Zero 2</td><td>gzip</td><td>-7</td><td>27.14</td></tr>\n",
       "<tr><td>Pi Zero 2</td><td>zstd</td><td>-8</td><td>26.22</td></tr>\n",
       "<tr><td>AMD Ryzen</td><td>zstd</td><td>-17</td><td>26.16</td></tr>\n",
       "<tr><td>Pi 4 8GB</td><td>xz</td><td>-2</td><td>26.15</td></tr>\n",
       "<tr><td>Pi Zero 2</td><td>zstd</td><td>-9</td><td>25.76</td></tr>\n",
       "<tr><td>AMD Ryzen</td><td>xz</td><td>-4</td><td>25.67</td></tr>\n",
       "<tr><td>Pi 4 8GB</td><td>zstd</td><td>-T0 -14</td><td>25.44</td></tr>\n",
       "<tr><td>AMD Opteron</td><td>xz</td><td>-1</td><td>25.25</td></tr>\n",
       "<tr><td>Pi 4 8GB</td><td>zstd</td><td>-11</td><td>24.93</td></tr>\n",
       "<tr><td>AMD Opteron</td><td>zstd</td><td>-13</td><td>24.81</td></tr>\n",
       "<tr><td>Pi 4 8GB</td><td>zstd</td><td>-T0 -13</td><td>24.36</td></tr>\n",
       "<tr><td>Pi 4 8GB</td><td>gzip</td><td>-7</td><td>24.2</td></tr>\n",
       "<tr><td>Pi 4 8GB</td><td>zstd</td><td>-15</td><td>24.12</td></tr>\n",
       "<tr><td>Pi Zero 2</td><td>zstd</td><td>-7</td><td>23.47</td></tr>\n",
       "<tr><td>Pi Zero 2</td><td>gzip</td><td>-6</td><td>23.26</td></tr>\n",
       "<tr><td>Pi 4 8GB</td><td>zstd</td><td>-10</td><td>23.16</td></tr>\n",
       "<tr><td>Pi 4 8GB</td><td>zstd</td><td>-T0 -12</td><td>22.39</td></tr>\n",
       "<tr><td>AMD Opteron</td><td>gzip</td><td>-8</td><td>22.18</td></tr>\n",
       "<tr><td>Pi 4 8GB</td><td>zstd</td><td>-9</td><td>21.67</td></tr>\n",
       "<tr><td>Pi 4 8GB</td><td>gzip</td><td>-9</td><td>21.12</td></tr>\n",
       "<tr><td>Pi Zero 2</td><td>zstd</td><td>-6</td><td>20.66</td></tr>\n",
       "<tr><td>AMD Ryzen</td><td>zstd</td><td>-16</td><td>20.6</td></tr>\n",
       "<tr><td>Pi 4 8GB</td><td>zstd</td><td>-8</td><td>20.3</td></tr></tbody>\n",
       "</table>"
      ],
      "text/plain": [
       "<IPython.core.display.HTML object>"
      ]
     },
     "execution_count": 4,
     "metadata": {},
     "output_type": "execute_result"
    }
   ],
   "source": [
    "HTML(show_query(\"\"\"\n",
    "SELECT machine, compressor, options, elapsed\n",
    "FROM results\n",
    "WHERE elapsed > 20\n",
    "ORDER BY elapsed DESC\n",
    "\"\"\"))"
   ]
  },
  {
   "cell_type": "code",
   "execution_count": 5,
   "metadata": {},
   "outputs": [],
   "source": [
    "compressors = [\n",
    "    row[0]\n",
    "    for row in conn.execute(\"SELECT compressor FROM compressors\")\n",
    "]\n",
    "data = {\n",
    "    compressor:\n",
    "    list(conn.execute(\"\"\"\n",
    "        SELECT elapsed, ratio\n",
    "        FROM results\n",
    "        WHERE compressor = ?\n",
    "        AND succeeded = 1\n",
    "    \"\"\", (compressor,)))\n",
    "    for compressor in compressors\n",
    "}\n",
    "data = {\n",
    "    compressor: {\n",
    "        'elapsed': [elapsed for elapsed, ratio in results],\n",
    "        'ratio': [ratio for elapsed, ratio in results],\n",
    "    }\n",
    "    for compressor, results in data.items()\n",
    "}"
   ]
  },
  {
   "cell_type": "code",
   "execution_count": 6,
   "metadata": {},
   "outputs": [
    {
     "data": {
      "text/plain": [
       "<matplotlib.legend.Legend at 0x7f65c503d5e0>"
      ]
     },
     "execution_count": 6,
     "metadata": {},
     "output_type": "execute_result"
    },
    {
     "data": {
      "image/png": "[encoded data removed]",
      "text/plain": [
       "<Figure size 432x288 with 1 Axes>"
      ]
     },
     "metadata": {
      "needs_background": "light"
     },
     "output_type": "display_data"
    }
   ],
   "source": [
    "for compressor, results in data.items():\n",
    "    plt.plot('elapsed', 'ratio', data=results,\n",
    "             label=compressor, marker='o', linestyle='none')\n",
    "plt.xlabel('Elapsed (s)')\n",
    "plt.ylabel('Compression Ratio')\n",
    "plt.legend()"
   ]
  }
 ],
 "metadata": {
  "kernelspec": {
   "display_name": "Python 3",
   "language": "python",
   "name": "python3"
  },
  "language_info": {
   "codemirror_mode": {
    "name": "ipython",
    "version": 3
   },
   "file_extension": ".py",
   "mimetype": "text/x-python",
   "name": "python",
   "nbconvert_exporter": "python",
   "pygments_lexer": "ipython3",
   "version": "3.8.10"
  }
 },
 "nbformat": 4,
 "nbformat_minor": 4
}
