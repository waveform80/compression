{
 "cells": [
  {
   "cell_type": "code",
   "execution_count": 1,
   "metadata": {},
   "outputs": [],
   "source": [
    "import math\n",
    "import sqlite3\n",
    "from html import escape\n",
    "from itertools import groupby\n",
    "from operator import itemgetter\n",
    "from pathlib import Path\n",
    "\n",
    "import matplotlib.pyplot as plt\n",
    "import ipywidgets as widgets\n",
    "from IPython.core.display import HTML\n",
    "from docutils.core import publish_parts\n",
    "\n",
    "%matplotlib inline\n",
    "plt.style.use('ggplot')"
   ]
  },
  {
   "cell_type": "code",
   "execution_count": 2,
   "metadata": {},
   "outputs": [],
   "source": [
    "conn = sqlite3.connect('compression.db')"
   ]
  },
  {
   "cell_type": "code",
   "execution_count": 3,
   "metadata": {},
   "outputs": [],
   "source": [
    "def render_rst(rst):\n",
    "    \"\"\"\n",
    "    Given reStructuredText *rst*, return the rendered HTML\n",
    "    content, excluding the surrounding outer-most ``<body>``\n",
    "    elements.\n",
    "    \"\"\"\n",
    "    return HTML(publish_parts(rst, writer_name='html')['html_body'])"
   ]
  },
  {
   "cell_type": "code",
   "execution_count": 4,
   "metadata": {
    "scrolled": false
   },
   "outputs": [
    {
     "data": {
      "text/html": [
       "<div class=\"document\" id=\"compression-analysis\">\n",
       "<h1 class=\"title\">Compression Analysis</h1>\n",
       "<p>An analysis of various compressors with a variety of options across several\n",
       "architectures and machine sizes.</p>\n",
       "<div class=\"section\" id=\"requirements\">\n",
       "<h1>Requirements</h1>\n",
       "<p>You will need the following packages installed if you wish to perform data\n",
       "collection with the <tt class=\"docutils literal\">gather.py</tt> script:</p>\n",
       "<ul class=\"simple\">\n",
       "<li>python3</li>\n",
       "<li>lz4</li>\n",
       "<li>xz-utils</li>\n",
       "<li>gzip</li>\n",
       "<li>zstd</li>\n",
       "</ul>\n",
       "<p>You will need the following packages installed to read (and play with) the\n",
       "analysis in <tt class=\"docutils literal\">analysis.ipynb</tt>:</p>\n",
       "<ul class=\"simple\">\n",
       "<li>python3-matplotlib</li>\n",
       "<li>python3-docutils</li>\n",
       "<li>jupyter-notebook</li>\n",
       "</ul>\n",
       "<p>Once installed, simply run <tt class=\"docutils literal\">jupyter notebook</tt> in your clone of the repo, and\n",
       "select <tt class=\"docutils literal\">analysis.ipynb</tt> in the browser window that opens.</p>\n",
       "</div>\n",
       "<div class=\"section\" id=\"data-gathering\">\n",
       "<h1>Data Gathering</h1>\n",
       "<p>We are particularly interested in the compression of an initramfs CPIO archive,\n",
       "the compression ratio achieved, the time taken, and the maximum resident memory\n",
       "used as the current default compression scheme used in Ubuntu is zstd with -19\n",
       "which is not only extremely slow (even on large scale machines like an AMD\n",
       "Ryzen) but also takes an amount of memory that results in OOM crashes on\n",
       "smaller machines (e.g. a Pi Zero 2 or 3A+ which only has 512MB of RAM).</p>\n",
       "<p>The <tt class=\"docutils literal\">gather.py</tt> script was used to measure the aforementioned parameters. The\n",
       "typical method of execution (on a fully updated Jammy image) was to extract the\n",
       "current <tt class=\"docutils literal\">initrd.img</tt> archive from the boot partition, and run the\n",
       "<tt class=\"docutils literal\">gather.py</tt> script with a suitable machine label. For example:</p>\n",
       "<pre class=\"literal-block\">\n",
       "$ git clone https://github.com/waveform80/compression\n",
       "$ cd compression\n",
       "$ zstdcat $(find /boot -name &quot;initrd.img&quot;) &gt; initrd.cpio\n",
       "$ ./gather.py initrd.cpio --machine &quot;My Machine with 16GB RAM&quot;\n",
       "</pre>\n",
       "<p>Provide some appropriate description with the <tt class=\"docutils literal\"><span class=\"pre\">--machine</span></tt> switch. Before the\n",
       "run begins, the script also checks that all compressors to be tested are\n",
       "executable and will prompt you to install any that are missing (you may need to\n",
       "install <tt class=\"docutils literal\">lz4</tt> as that is not currently seeded).</p>\n",
       "<p>The script is sufficiently intelligent not to re-run tests that already exist\n",
       "in the database for the specified machine label. This helps dealing with the\n",
       "smaller machines that had a tendency to crash entirely when pushed to their\n",
       "limits.</p>\n",
       "</div>\n",
       "<div class=\"section\" id=\"database-structure\">\n",
       "<h1>Database Structure</h1>\n",
       "<p>The script creates (or updates) the <tt class=\"docutils literal\">compression.db</tt> SQLite database which\n",
       "has the following schema:</p>\n",
       "<div class=\"section\" id=\"tests\">\n",
       "<h2>tests</h2>\n",
       "<p>This table stores the list of all combinations of compressors,\n",
       "compressor-specific options, and compression levels to test. Example: <tt class=\"docutils literal\">('xz',\n",
       "<span class=\"pre\">'-e',</span> <span class=\"pre\">'-6')</span></tt>.</p>\n",
       "<table border=\"1\" class=\"docutils\">\n",
       "<colgroup>\n",
       "<col width=\"24%\" />\n",
       "<col width=\"10%\" />\n",
       "<col width=\"66%\" />\n",
       "</colgroup>\n",
       "<thead valign=\"bottom\">\n",
       "<tr><th class=\"head\">Name</th>\n",
       "<th class=\"head\">Type</th>\n",
       "<th class=\"head\">Description</th>\n",
       "</tr>\n",
       "</thead>\n",
       "<tbody valign=\"top\">\n",
       "<tr><td><em>compressor</em></td>\n",
       "<td>TEXT</td>\n",
       "<td>The name of the compressor</td>\n",
       "</tr>\n",
       "<tr><td><em>options</em></td>\n",
       "<td>TEXT</td>\n",
       "<td>The options to execute the compressor\n",
       "with (if any)</td>\n",
       "</tr>\n",
       "<tr><td><em>level</em></td>\n",
       "<td>TEXT</td>\n",
       "<td>The compression level to use</td>\n",
       "</tr>\n",
       "</tbody>\n",
       "</table>\n",
       "<p>Views that derive from this table are <strong>compressors</strong> (which simply lists\n",
       "distinct <em>compressor</em> values), and <strong>options</strong> (which lists distinct\n",
       "<em>compressor</em> and <em>options</em> combinations).</p>\n",
       "</div>\n",
       "<div class=\"section\" id=\"results\">\n",
       "<h2>results</h2>\n",
       "<p>This is the &quot;main&quot; table, storing the results of all compression runs. It is\n",
       "keyed by the machine's label, architecture, the compressor being tested, and\n",
       "its command line options. The non-key attributes track the success of the\n",
       "operation(s), the time they took, the maximum resident memory used, and the\n",
       "compression ratio achieved.</p>\n",
       "<table border=\"1\" class=\"docutils\">\n",
       "<colgroup>\n",
       "<col width=\"23%\" />\n",
       "<col width=\"19%\" />\n",
       "<col width=\"58%\" />\n",
       "</colgroup>\n",
       "<thead valign=\"bottom\">\n",
       "<tr><th class=\"head\">Name</th>\n",
       "<th class=\"head\">Type</th>\n",
       "<th class=\"head\">Description</th>\n",
       "</tr>\n",
       "</thead>\n",
       "<tbody valign=\"top\">\n",
       "<tr><td><em>machine</em></td>\n",
       "<td>TEXT</td>\n",
       "<td>The label provided on by <tt class=\"docutils literal\"><span class=\"pre\">--machine</span></tt> on\n",
       "the command line</td>\n",
       "</tr>\n",
       "<tr><td><em>arch</em></td>\n",
       "<td>TEXT</td>\n",
       "<td>The <tt class=\"docutils literal\">dpkg</tt> architecture of the machine</td>\n",
       "</tr>\n",
       "<tr><td><em>compressor</em></td>\n",
       "<td>TEXT</td>\n",
       "<td>The name of the compressor</td>\n",
       "</tr>\n",
       "<tr><td><em>options</em></td>\n",
       "<td>TEXT</td>\n",
       "<td>The options to execute the compressor\n",
       "with (if any)</td>\n",
       "</tr>\n",
       "<tr><td><em>level</em></td>\n",
       "<td>TEXT</td>\n",
       "<td>The compression level to use</td>\n",
       "</tr>\n",
       "<tr><td>succeeded</td>\n",
       "<td>INTEGER</td>\n",
       "<td>1 if the compression run succeeded, and 0\n",
       "if it failed</td>\n",
       "</tr>\n",
       "<tr><td>comp_duration</td>\n",
       "<td>NUMERIC(8,2)</td>\n",
       "<td>The number of seconds compression took\n",
       "(wall clock time)</td>\n",
       "</tr>\n",
       "<tr><td>comp_max_mem</td>\n",
       "<td>INTEGER</td>\n",
       "<td>The maximum resident memory during\n",
       "compression, in bytes</td>\n",
       "</tr>\n",
       "<tr><td>decomp_duration</td>\n",
       "<td>NUMERIC(8,2)</td>\n",
       "<td>The number of seconds decompression took\n",
       "(wall clock time)</td>\n",
       "</tr>\n",
       "<tr><td>decomp_max_mem</td>\n",
       "<td>INTEGER</td>\n",
       "<td>The maximum resident memory during\n",
       "decompression, in bytes</td>\n",
       "</tr>\n",
       "<tr><td>input_size</td>\n",
       "<td>INTEGER</td>\n",
       "<td>The size of the input file provided</td>\n",
       "</tr>\n",
       "<tr><td>output_size</td>\n",
       "<td>INTEGER</td>\n",
       "<td>The size of the compressed output</td>\n",
       "</tr>\n",
       "</tbody>\n",
       "</table>\n",
       "</div>\n",
       "</div>\n",
       "</div>\n"
      ],
      "text/plain": [
       "<IPython.core.display.HTML object>"
      ]
     },
     "execution_count": 4,
     "metadata": {},
     "output_type": "execute_result"
    }
   ],
   "source": [
    "render_rst(Path('README.rst').read_text())"
   ]
  },
  {
   "cell_type": "markdown",
   "metadata": {},
   "source": [
    "## Analysis Functions"
   ]
  },
  {
   "cell_type": "markdown",
   "metadata": {},
   "source": [
    "Some convenience functions for rendering the output of SQL queries as tables\n",
    "and graphs; these are not important to the analysis -- feel free to skip down\n",
    "to the \"Analysis Results\" heading."
   ]
  },
  {
   "cell_type": "code",
   "execution_count": 5,
   "metadata": {},
   "outputs": [],
   "source": [
    "def render_table(cur):\n",
    "    \"\"\"\n",
    "    Given *cur*, a cursor containing a database result set, return a string\n",
    "    containing the result set rendered as an HTML ``<table>`` element.\n",
    "    \"\"\"\n",
    "    columns = [r[0] for r in cur.description]\n",
    "    rows = list(cur)\n",
    "    cur.close()\n",
    "    headers = \"\".join(\n",
    "        f\"<th>{escape(str(header))}</th>\"\n",
    "        for header in columns\n",
    "    )\n",
    "    data = \"\\n\".join(\n",
    "        f\"<tr>{html_row}</tr>\"\n",
    "        for row in rows\n",
    "        for html_row in (\"\".join(\n",
    "            f\"<td>{escape(str(cell))}</td>\"\n",
    "            for cell in row\n",
    "        ),)\n",
    "    )\n",
    "    return HTML(f\"\"\"\n",
    "<table>\n",
    "<thead><tr>{headers}</tr></thead>\n",
    "<tbody>{data}</tbody>\n",
    "</table>\"\"\")"
   ]
  },
  {
   "cell_type": "code",
   "execution_count": 6,
   "metadata": {},
   "outputs": [],
   "source": [
    "def transpose(seq):\n",
    "    return list(zip(*seq))"
   ]
  },
  {
   "cell_type": "code",
   "execution_count": 7,
   "metadata": {},
   "outputs": [],
   "source": [
    "def render_xy(cur):\n",
    "    \"\"\"\n",
    "    Given *cur*, a cursor containing a database result set, plot the results\n",
    "    on an X-Y scatter graph. The cursor is expected to contain 3 columns:\n",
    "    \n",
    "    * The first column must be the \"series\" column, and must be the first\n",
    "      column by which the result set is ordered. It can be any data-type but\n",
    "      is typically a string indicating the series of data that the row belongs\n",
    "      to. The name of this column is ignored, but the content will be used in\n",
    "      the key of the graph.\n",
    "      \n",
    "    * The second column must be the \"X\" column, and must be numeric values\n",
    "      for the X-axis of the graph. The column name will be used as the X-axis\n",
    "      title.\n",
    "      \n",
    "    * The third column must be the \"Y\" column, and must be numeric values for\n",
    "      the Y-axis of the graph. The column name will be used as the Y-axis\n",
    "      title.\n",
    "    \"\"\"\n",
    "    style = {'marker': 'o', 'linestyle': 'none'}\n",
    "    cols = [c[0] for c in cur.description]\n",
    "    if len(cols) != 3:\n",
    "        raise ValueError('query must return 3 columns')\n",
    "    ax = plt.axes()\n",
    "    for series, rows in groupby(cur, key=itemgetter(0)):\n",
    "        data = transpose((row[1], row[2]) for row in rows)\n",
    "        ax.plot(data[0], data[1], label=series, **style)\n",
    "    ax.set_xlabel(cols[1])\n",
    "    ax.set_ylabel(cols[2])\n",
    "    ax.legend()\n",
    "    return ax"
   ]
  },
  {
   "cell_type": "code",
   "execution_count": 8,
   "metadata": {},
   "outputs": [],
   "source": [
    "def render_multi_xy(cur):\n",
    "    \"\"\"\n",
    "    Given *cur*, a cursor containing a database result set, plot the results on\n",
    "    multiple X-Y scatter graphs within a figure. Each plot shares its X and\n",
    "    Y scales making the graphs comparable. The cursor must contain 4 columns:\n",
    "    \n",
    "    * The first is the graph \"title\" column. The result set must use this as\n",
    "      the primary sorting key. Each unique value in this column will produce a\n",
    "      separate output graph titled with that value. The column name is ignored.\n",
    "      \n",
    "    * The second is the \"series\" column. The result set must use this as the\n",
    "      secondary sorting key. Each unique value in this column will form a\n",
    "      separate series of data in the containing graph. The column name is\n",
    "      ignored.\n",
    "      \n",
    "    * The third column must be the \"X\" column, and must be numeric values\n",
    "      for the X-axis of the graph. The column name will be used as the X-axis\n",
    "      title.\n",
    "      \n",
    "    * The fourth column must be the \"Y\" column, and must be numeric values for\n",
    "      the Y-axis of the graph. The column name will be used as the Y-axis\n",
    "      title.\n",
    "    \"\"\"\n",
    "    style = {'marker': 'o', 'linestyle': 'none'}\n",
    "    cols = [c[0] for c in cur.description]\n",
    "    if len(cols) != 4:\n",
    "        raise ValueError('query must return 4 columns')\n",
    "    graphs = {}\n",
    "    for title, rows in groupby(cur, key=itemgetter(0)):\n",
    "        graphs[title] = [(row[1], row[2], row[3]) for row in rows]\n",
    "    rows = len(graphs) // 2 + len(graphs) % 2\n",
    "    fig, axs = plt.subplots(\n",
    "        rows, 2, figsize=(10, rows * 5),\n",
    "        sharex=True, sharey=True)\n",
    "    for ax, title in zip(axs.flat, graphs):        \n",
    "        graph = graphs[title]\n",
    "        for series, rows in groupby(graph, key=itemgetter(0)):\n",
    "            data = transpose((row[1], row[2]) for row in rows)\n",
    "            ax.plot(data[0], data[1], label=series, **style)\n",
    "        ax.set_xlabel(cols[2])\n",
    "        ax.set_ylabel(cols[3])\n",
    "        ax.legend()\n",
    "        ax.set_title(title)\n",
    "        ax.label_outer()\n",
    "    if len(graphs) % 2:\n",
    "        axs.flat[-1].set(visible=False)"
   ]
  },
  {
   "cell_type": "code",
   "execution_count": 9,
   "metadata": {},
   "outputs": [],
   "source": [
    "def render_xyz(cur):\n",
    "    \"\"\"\n",
    "    Given *cur*, a cursor containing a database result set, plot the results on\n",
    "    three X-Y scatter graphs. The cursor is expected to contain 4 columns:\n",
    "    \n",
    "    * The first is the \"series\" column. The result set must use this as the\n",
    "      primary sorting key. Each unique value in this column will form a\n",
    "      separate series of data in the containing graph. The column name is\n",
    "      ignored.\n",
    "      \n",
    "    * The second column must be the \"X\" column, and must be numeric values\n",
    "      for the X-axis of the graph. The column name will be used as the X-axis\n",
    "      title.\n",
    "      \n",
    "    * The third column must be the \"Y\" column, and must be numeric values for\n",
    "      the Y-axis of the graph. The column name will be used as the Y-axis\n",
    "      title.\n",
    "      \n",
    "    * The fourth column must be the \"Z\" column, and must be numeric values for\n",
    "      the Z-axis of the graph. The column name will be used as the Z-axis\n",
    "      title.\n",
    "      \n",
    "    The \"X\" and \"Y\" columns will be plotted on the top-left \"common\" graph. The\n",
    "    \"X\" and \"Z\" columns will be plotted below the common graph, and the \"Y\" and\n",
    "    \"Z\" columns will be plotted to the right of the common graph.\n",
    "    \"\"\"\n",
    "    style = {'marker': 'o', 'linestyle': 'none'}\n",
    "    cols = [c[0] for c in cur.description]\n",
    "    if len(cols) != 4:\n",
    "        raise ValueError('query must return 4 columns')\n",
    "    fig, axs = plt.subplots(2, 2, figsize=(10, 10))\n",
    "    cur = list(cur)\n",
    "    indexes = {'x': 1, 'y': 2, 'z': 3}\n",
    "    for ax, ax_cols in zip(axs.flat, ('xy', 'zy', 'xz')):\n",
    "        getter = itemgetter(indexes[ax_cols[0]], indexes[ax_cols[1]])\n",
    "        for series, rows in groupby(cur, key=itemgetter(0)):\n",
    "            data = transpose(getter(row) for row in rows)\n",
    "            ax.plot(data[0], data[1], label=series, **style)\n",
    "        ax.legend()\n",
    "        ax.set_xlabel(cols[indexes[ax_cols[0]]])\n",
    "        ax.set_ylabel(cols[indexes[ax_cols[1]]])\n",
    "    axs[1, 1].set(visible=False)\n",
    "    return fig"
   ]
  },
  {
   "cell_type": "markdown",
   "metadata": {},
   "source": [
    "## Analysis Results"
   ]
  },
  {
   "cell_type": "markdown",
   "metadata": {},
   "source": [
    "### Combinations tested"
   ]
  },
  {
   "cell_type": "markdown",
   "metadata": {},
   "source": [
    "A list of all the machines (and architectures) tested:"
   ]
  },
  {
   "cell_type": "code",
   "execution_count": 10,
   "metadata": {},
   "outputs": [
    {
     "data": {
      "text/html": [
       "\n",
       "<table>\n",
       "<thead><tr><th>Machine</th><th>Architecture</th></tr></thead>\n",
       "<tbody><tr><td>AMD Ryzen 32GB</td><td>amd64</td></tr>\n",
       "<tr><td>Pi 4 8GB</td><td>arm64</td></tr>\n",
       "<tr><td>Pi 4 8GB</td><td>armhf</td></tr>\n",
       "<tr><td>Pi Zero 2 512MB</td><td>arm64</td></tr>\n",
       "<tr><td>Pi Zero 2 512MB</td><td>armhf</td></tr></tbody>\n",
       "</table>"
      ],
      "text/plain": [
       "<IPython.core.display.HTML object>"
      ]
     },
     "execution_count": 10,
     "metadata": {},
     "output_type": "execute_result"
    }
   ],
   "source": [
    "render_table(conn.execute(\"\"\"\n",
    "SELECT DISTINCT\n",
    "    machine AS \"Machine\",\n",
    "    arch AS \"Architecture\"\n",
    "FROM results\n",
    "\"\"\"))"
   ]
  },
  {
   "cell_type": "markdown",
   "metadata": {},
   "source": [
    "A list of all the compressors and options tested:"
   ]
  },
  {
   "cell_type": "code",
   "execution_count": 11,
   "metadata": {},
   "outputs": [
    {
     "data": {
      "text/html": [
       "\n",
       "<table>\n",
       "<thead><tr><th>Compressor</th><th>Options</th><th>Levels</th></tr></thead>\n",
       "<tbody><tr><td>bzip2</td><td></td><td>-1,-2,-3,-4,-5,-6,-7,-8,-9</td></tr>\n",
       "<tr><td>bzip2</td><td>-s</td><td>-1,-2,-3,-4,-5,-6,-7,-8,-9</td></tr>\n",
       "<tr><td>gzip</td><td></td><td>-1,-2,-3,-4,-5,-6,-7,-8,-9</td></tr>\n",
       "<tr><td>lz4</td><td></td><td>-1,-10,-11,-12,-2,-3,-4,-5,-6,-7,-8,-9</td></tr>\n",
       "<tr><td>lzip</td><td></td><td>-0,-1,-2,-3,-4,-5,-6,-7,-8,-9</td></tr>\n",
       "<tr><td>xz</td><td></td><td>-0,-1,-2,-3,-4,-5,-6,-7,-8,-9</td></tr>\n",
       "<tr><td>xz</td><td>-e</td><td>-0,-1,-2,-3,-4,-5,-6,-7,-8,-9</td></tr>\n",
       "<tr><td>zstd</td><td></td><td>-1,-10,-11,-12,-13,-14,-15,-16,-17,-18,-19,-2,-3,-4,-5,-6,-7,-8,-9</td></tr>\n",
       "<tr><td>zstd</td><td>-T0</td><td>-1,-10,-11,-12,-13,-14,-15,-16,-17,-18,-19,-2,-3,-4,-5,-6,-7,-8,-9</td></tr></tbody>\n",
       "</table>"
      ],
      "text/plain": [
       "<IPython.core.display.HTML object>"
      ]
     },
     "execution_count": 11,
     "metadata": {},
     "output_type": "execute_result"
    }
   ],
   "source": [
    "render_table(conn.execute(\"\"\"\n",
    "SELECT\n",
    "    compressor AS \"Compressor\",\n",
    "    options AS \"Options\",\n",
    "    GROUP_CONCAT(level) AS \"Levels\"\n",
    "FROM tests\n",
    "GROUP BY compressor, options\n",
    "ORDER BY compressor, options\n",
    "\"\"\"))"
   ]
  },
  {
   "cell_type": "markdown",
   "metadata": {},
   "source": [
    "Notes:\n",
    "* The `-e` option for `xz` enables \"extreme\" (!) compression\n",
    "* The `-s` option for `bzip2` reduces memory usage\n",
    "* The `-T0` option for `zstd` enables multi-threaded operation"
   ]
  },
  {
   "cell_type": "markdown",
   "metadata": {},
   "source": [
    "### Dangerous combinations"
   ]
  },
  {
   "cell_type": "markdown",
   "metadata": {},
   "source": [
    "Show all compressor+option combinations that failed to produce a result"
   ]
  },
  {
   "cell_type": "code",
   "execution_count": 12,
   "metadata": {
    "scrolled": false
   },
   "outputs": [
    {
     "data": {
      "text/html": [
       "\n",
       "<table>\n",
       "<thead><tr><th>Machine</th><th>Architecture</th><th>Command</th></tr></thead>\n",
       "<tbody><tr><td>Pi Zero 2 512MB</td><td>arm64</td><td>xz -7</td></tr>\n",
       "<tr><td>Pi Zero 2 512MB</td><td>arm64</td><td>xz -8</td></tr>\n",
       "<tr><td>Pi Zero 2 512MB</td><td>arm64</td><td>xz -9</td></tr>\n",
       "<tr><td>Pi Zero 2 512MB</td><td>arm64</td><td>xz -e -7</td></tr>\n",
       "<tr><td>Pi Zero 2 512MB</td><td>arm64</td><td>xz -e -8</td></tr>\n",
       "<tr><td>Pi Zero 2 512MB</td><td>arm64</td><td>xz -e -9</td></tr>\n",
       "<tr><td>Pi Zero 2 512MB</td><td>arm64</td><td>zstd -16</td></tr>\n",
       "<tr><td>Pi Zero 2 512MB</td><td>arm64</td><td>zstd -17</td></tr>\n",
       "<tr><td>Pi Zero 2 512MB</td><td>arm64</td><td>zstd -18</td></tr>\n",
       "<tr><td>Pi Zero 2 512MB</td><td>arm64</td><td>zstd -19</td></tr>\n",
       "<tr><td>Pi Zero 2 512MB</td><td>arm64</td><td>zstd -T0 -11</td></tr>\n",
       "<tr><td>Pi Zero 2 512MB</td><td>arm64</td><td>zstd -T0 -12</td></tr>\n",
       "<tr><td>Pi Zero 2 512MB</td><td>arm64</td><td>zstd -T0 -13</td></tr>\n",
       "<tr><td>Pi Zero 2 512MB</td><td>arm64</td><td>zstd -T0 -14</td></tr>\n",
       "<tr><td>Pi Zero 2 512MB</td><td>arm64</td><td>zstd -T0 -15</td></tr>\n",
       "<tr><td>Pi Zero 2 512MB</td><td>arm64</td><td>zstd -T0 -16</td></tr>\n",
       "<tr><td>Pi Zero 2 512MB</td><td>arm64</td><td>zstd -T0 -17</td></tr>\n",
       "<tr><td>Pi Zero 2 512MB</td><td>arm64</td><td>zstd -T0 -18</td></tr>\n",
       "<tr><td>Pi Zero 2 512MB</td><td>arm64</td><td>zstd -T0 -19</td></tr>\n",
       "<tr><td>Pi Zero 2 512MB</td><td>armhf</td><td>xz -8</td></tr>\n",
       "<tr><td>Pi Zero 2 512MB</td><td>armhf</td><td>xz -9</td></tr>\n",
       "<tr><td>Pi Zero 2 512MB</td><td>armhf</td><td>xz -e -8</td></tr>\n",
       "<tr><td>Pi Zero 2 512MB</td><td>armhf</td><td>xz -e -9</td></tr>\n",
       "<tr><td>Pi Zero 2 512MB</td><td>armhf</td><td>zstd -T0 -14</td></tr>\n",
       "<tr><td>Pi Zero 2 512MB</td><td>armhf</td><td>zstd -T0 -15</td></tr>\n",
       "<tr><td>Pi Zero 2 512MB</td><td>armhf</td><td>zstd -T0 -16</td></tr>\n",
       "<tr><td>Pi Zero 2 512MB</td><td>armhf</td><td>zstd -T0 -17</td></tr>\n",
       "<tr><td>Pi Zero 2 512MB</td><td>armhf</td><td>zstd -T0 -18</td></tr>\n",
       "<tr><td>Pi Zero 2 512MB</td><td>armhf</td><td>zstd -T0 -19</td></tr>\n",
       "<tr><td>Pi Zero 2 512MB</td><td>armhf</td><td>lzip -8</td></tr>\n",
       "<tr><td>Pi Zero 2 512MB</td><td>armhf</td><td>lzip -9</td></tr>\n",
       "<tr><td>Pi Zero 2 512MB</td><td>arm64</td><td>lzip -7</td></tr>\n",
       "<tr><td>Pi Zero 2 512MB</td><td>arm64</td><td>lzip -8</td></tr>\n",
       "<tr><td>Pi Zero 2 512MB</td><td>arm64</td><td>lzip -9</td></tr></tbody>\n",
       "</table>"
      ],
      "text/plain": [
       "<IPython.core.display.HTML object>"
      ]
     },
     "execution_count": 12,
     "metadata": {},
     "output_type": "execute_result"
    }
   ],
   "source": [
    "render_table(conn.execute(\"\"\"\n",
    "SELECT\n",
    "    machine AS \"Machine\",\n",
    "    arch AS \"Architecture\",\n",
    "    compressor ||\n",
    "    CASE WHEN options = '' THEN '' ELSE ' ' || options END ||\n",
    "    CASE WHEN level = '' THEN '' ELSE ' ' || level END AS \"Command\"\n",
    "FROM results\n",
    "WHERE succeeded = 0\n",
    "\"\"\"))"
   ]
  },
  {
   "cell_type": "markdown",
   "metadata": {},
   "source": [
    "From the table above we can see that only the Pi Zero 2 has an issue, and that\n",
    "only the more aggressive options of ``xz`` and ``zstd`` tend to cause a direct\n",
    "failure. However, it's worth bearing in mind that these tests were run on\n",
    "otherwise idle and unloaded systems. We should strive to be as minimal as\n",
    "possible in both memory and time usage because:\n",
    "\n",
    "* The more memory we use, the more chance of pushing other services into OOM\n",
    "  failure. For example, on the Pi Zero 2 (and 3A+) with the arm64 architecture,\n",
    "  the typical amount of RAM available at runtime with all \"default\" services\n",
    "  loaded is only around 200MB. If our compressor takes 50MB of RAM, and a daemon\n",
    "  is running that takes 100MB of RAM we're at serious risk of pushing the daemon\n",
    "  into the waiting arms of the OOM killer.\n",
    "\n",
    "* The more time we use, the more we risk being terminated prematurely. Consider\n",
    "  that `unattended-upgrades` runs by default and that a kernel upgrade could\n",
    "  well be running at shutdown time. If our compressor takes 4 minutes to run\n",
    "  we're at serious risk of the user just pulling the plug (no one waits 4\n",
    "  minutes for shutdown!)."
   ]
  },
  {
   "cell_type": "markdown",
   "metadata": {},
   "source": [
    "## Useful combinations"
   ]
  },
  {
   "cell_type": "markdown",
   "metadata": {},
   "source": [
    "From the above we can rule out certain compressor options (`zstd` above `-10`,\n",
    "`xz` above `-6`, etc). However, we should have a general overview of how these\n",
    "compressors fare against each other to see whether one is obviously \"better\"\n",
    "than the others, and whether any are sufficiently inferior that we can discard\n",
    "them immediately.\n",
    "\n",
    "The following graphs show three data-points, time taken to compress, memory used\n",
    "to compress, and compression size achieved (in %) all plotted against each other\n",
    "for a given machine and architecture.\n",
    "Firstly, a break-down by machine (and architecture); select one from the list to\n",
    "see all compressor runs on that platform:"
   ]
  },
  {
   "cell_type": "code",
   "execution_count": 13,
   "metadata": {},
   "outputs": [],
   "source": [
    "machines_archs = list(\n",
    "    conn.execute(\"SELECT DISTINCT machine, arch FROM results\"))"
   ]
  },
  {
   "cell_type": "code",
   "execution_count": 14,
   "metadata": {
    "scrolled": false
   },
   "outputs": [
    {
     "name": "stderr",
     "output_type": "stream",
     "text": [
      "Widget Javascript not detected.  It may not be installed or enabled properly.\n"
     ]
    },
    {
     "data": {
      "application/vnd.jupyter.widget-view+json": {
       "model_id": "a206a095726e4a87aef853477a70cc6a"
      }
     },
     "metadata": {},
     "output_type": "display_data"
    }
   ],
   "source": [
    "@widgets.interact(value=widgets.Dropdown(\n",
    "    options=[\n",
    "        (f'{machine} ({arch})', (machine, arch))\n",
    "        for machine, arch in machines_archs\n",
    "    ],\n",
    "    value=('AMD Ryzen 32GB', 'amd64'),\n",
    "    description='Select a machine'\n",
    "))\n",
    "def compare_compressors(value):\n",
    "    machine, arch = value\n",
    "    query = \"\"\"\n",
    "    SELECT\n",
    "        compressor,\n",
    "        comp_duration AS \"Elapsed (s)\",\n",
    "        comp_max_mem / 1048576.0 AS \"Max. resident size (MB)\",\n",
    "        100.0 * output_size / input_size AS \"Compressed size (%)\"\n",
    "    FROM results\n",
    "    WHERE succeeded = 1\n",
    "    AND machine = ?\n",
    "    AND arch = ?\n",
    "    ORDER BY compressor\n",
    "    \"\"\"\n",
    "    render_xyz(conn.execute(query, (machine, arch)))\n",
    "    plt.show()"
   ]
  },
  {
   "cell_type": "markdown",
   "metadata": {},
   "source": [
    "Some rough observations from playing with the graphs above:\n",
    "\n",
    "* `bzip2` has relatively poor time complexity compared to other algorithms; its\n",
    "  clusters are consistently \"right\" of the other compressors under test on bottom\n",
    "  graph indicating that, for the compression achieved, it's taking longer than\n",
    "  others\n",
    "\n",
    "* `zstd` has relatively poor memory complexity compared to other algorithms; its\n",
    "  clusters are consistently \"right\" of the other compressors in the right-hand\n",
    "  graph indicating that, for the memory used, it's achieved less compression\n",
    "  compared to others\n",
    "\n",
    "* `xz` and `lzip` (both LZMA based compressors) clearly produce the\n",
    "  best overall compression ratio, but have by *far* the worst time complexity\n",
    "  (they tail far off to the right on the Elapsed axis), and also poor memory\n",
    "  complexity at least at their higher levels\n",
    "\n",
    "* In contrast, `lz4` and the venerable `gzip` both have the worst compression\n",
    "  ratios but excellent time and memory complexity, though `gzip` appears to be\n",
    "  consistently better (perhaps `lz4` wins on decompression?)\n",
    "\n",
    "Next, a look at each compressor (and its options) compared by machine, bearing in\n",
    "mind that each machine is compressing *its* particular initramfs. Whilst these are\n",
    "of roughly similar sizes, they obviously aren't identical and will compress\n",
    "differently.\n",
    "\n",
    "This is mostly useful for spotting patterns particular to a compressor (or its\n",
    "options), for example the curves of memory usage in `xz` versus the flat memory\n",
    "usage of `gzip`:"
   ]
  },
  {
   "cell_type": "code",
   "execution_count": 15,
   "metadata": {},
   "outputs": [],
   "source": [
    "compressor_options = list(\n",
    "    conn.execute(\"SELECT compressor, options FROM options\"))"
   ]
  },
  {
   "cell_type": "code",
   "execution_count": 16,
   "metadata": {
    "scrolled": false
   },
   "outputs": [
    {
     "name": "stderr",
     "output_type": "stream",
     "text": [
      "Widget Javascript not detected.  It may not be installed or enabled properly.\n"
     ]
    },
    {
     "data": {
      "application/vnd.jupyter.widget-view+json": {
       "model_id": "01747863fb694e33abdd58189ef9b4bb"
      }
     },
     "metadata": {},
     "output_type": "display_data"
    }
   ],
   "source": [
    "@widgets.interact(value=widgets.Dropdown(\n",
    "    options=[\n",
    "        (f'{compressor} {options}', (compressor, options))\n",
    "        for compressor, options in compressor_options\n",
    "    ],\n",
    "    value=('bzip2', ''),\n",
    "    description='Select a compressor'\n",
    "))\n",
    "def compare_compressors(value):\n",
    "    compressor, options = value\n",
    "    query = \"\"\"\n",
    "    SELECT\n",
    "        machine || ' (' || arch || ')',      \n",
    "        comp_duration AS \"Elapsed (s)\",\n",
    "        comp_max_mem / 1048576.0 AS \"Max. resident size (MB)\",\n",
    "        100.0 * output_size / input_size AS \"Compressed size (%)\"\n",
    "    FROM results\n",
    "    WHERE succeeded = 1\n",
    "    AND compressor = ?\n",
    "    AND options = ?\n",
    "    ORDER BY 1\n",
    "    \"\"\"\n",
    "    render_xyz(conn.execute(query, (compressor, options))),\n",
    "    plt.show()"
   ]
  },
  {
   "cell_type": "markdown",
   "metadata": {},
   "source": [
    "Rough observations from these graphs:\n",
    "\n",
    "* `lz4` and `gzip` appear to be constant memory algorithms (see the scale of\n",
    "  the Y-axis on the resident size graphs for these compressors; the variation\n",
    "  is on the scale of kilobytes)\n",
    "\n",
    "* There appears to be a significant difference in compression ratio between\n",
    "  (presumably?) level `-1` of `lz4` and the higher levels\n",
    "\n",
    "* `xz`, `lzip`, and `zstd` (in particular with the `-T0` multi-threaded option)\n",
    "  all use terrific amounts of memory at their higher levels. It is particularly\n",
    "  telling that the Pi Zero 2 results cease above 200MB of usage as everything\n",
    "  trying to use more simply failed\n",
    "\n",
    "* `zstd` displays considerable compression gains for little loss in speed, up\n",
    "  to somewhere in the middle of its range then displays a curious \"knee\" in\n",
    "  the bottom graph unlike any other compressor. Performance rapidly trails off\n",
    "  after this suggesting the lower levels are worth looking at, but the higher\n",
    "  ones should probably be avoided. The effect is less pronounced with the\n",
    "  multi-threading `-T0` option, but the difference in memory usage with that\n",
    "  option suggests it's likely not viable for our use-case"
   ]
  },
  {
   "cell_type": "markdown",
   "metadata": {},
   "source": [
    "## Narrowing it down"
   ]
  },
  {
   "cell_type": "markdown",
   "metadata": {},
   "source": [
    "Let's consider the apparently \"best\" compressors which, from playing with the\n",
    "graphs above, would appear to be `bzip2`, `zstd`, `xz`, and `lzip` purely\n",
    "considering their compression ratios (`gzip` and `lz4` are consistently outside\n",
    "the range of ratios produced by these). Ignoring the actual ratio produced\n",
    "initially, let's look at their time and space usage, limiting ourselves to runs\n",
    "that took less than 60s (anything longer than 30s is probably not that useful\n",
    "to our scenario) and runs that used less than 100MB of resident memory (again,\n",
    "anything that uses more than 50MB is dangerous on a Pi Zero 2):"
   ]
  },
  {
   "cell_type": "code",
   "execution_count": 17,
   "metadata": {},
   "outputs": [
    {
     "data": {
      "image/png": "[encoded data removed]",
      "text/plain": [
       "<Figure size 720x1080 with 6 Axes>"
      ]
     },
     "metadata": {},
     "output_type": "display_data"
    }
   ],
   "source": [
    "render_multi_xy(conn.execute(\"\"\"\n",
    "SELECT\n",
    "    machine || ' (' || arch || ')' AS title,\n",
    "    compressor AS series,\n",
    "    comp_duration AS \"Elapsed (s)\",\n",
    "    comp_max_mem / 1048576.0 AS \"Max. resident size (MB)\"\n",
    "FROM results\n",
    "WHERE succeeded = 1\n",
    "AND comp_duration < 60\n",
    "AND comp_max_mem < (100 * 1048576)\n",
    "AND compressor IN ('bzip2', 'zstd', 'xz', 'lzip')\n",
    "ORDER BY title, series\n",
    "\"\"\"))"
   ]
  },
  {
   "cell_type": "markdown",
   "metadata": {},
   "source": [
    "On the Pi Zero 2 at least, the `xz` and `lzip` compressors are sufficiently slow\n",
    "and/or memory heavy that only a few of their data points show up under such\n",
    "constraints. We can eliminate them from further consideration on this basis.\n",
    "\n",
    "The newer `zstd` fares much better, but still has some worrying \"high-memory\n",
    "usage\" clusters towards the top of the charts. `bzip2` appears to have decent\n",
    "memory usage, but its runtimes are consistently slow (no values to the left of\n",
    "the graphs). Ignoring memory usage for a second, are there *any* cases where\n",
    "`bzip2` beats `zstd` on compression ratio versus speed?"
   ]
  },
  {
   "cell_type": "code",
   "execution_count": null,
   "metadata": {},
   "outputs": [],
   "source": [
    "render_multi_xy(conn.execute(\"\"\"\n",
    "SELECT\n",
    "    machine || ' (' || arch || ')' AS title,\n",
    "    compressor AS series,\n",
    "    comp_duration AS \"Elapsed (s)\",\n",
    "    100.0 * output_size / input_size AS \"Compressed size (%)\"\n",
    "FROM results\n",
    "WHERE succeeded = 1\n",
    "AND comp_duration < 60\n",
    "AND comp_max_mem < (100 * 1048576)\n",
    "AND compressor IN ('bzip2', 'zstd')\n",
    "ORDER BY title, series\n",
    "\"\"\"))"
   ]
  },
  {
   "cell_type": "markdown",
   "metadata": {},
   "source": [
    "There are not: it is always possible to produce something with `zstd` that is\n",
    "smaller than the `bzip2` output, in a shorter time (at least, for our limited\n",
    "set of inputs).\n",
    "However, determining a\n",
    "single level at which this occurs may be non-trivial given the wide range of\n",
    "behaviour that `zstd` demonstrates. That said, the graphs above also remind us\n",
    "that, even at `-1` level, `bzip2` is likely too slow on the Pi Zero 2.\n",
    "\n",
    "Returning to our concern about the memory usasge of `zstd`, it is worth bearing\n",
    "in mind that since the Impish release of Ubuntu (21.10), the\n",
    "Ubuntu Pi kernel has shipped with a cut down list of modules which can be\n",
    "expanded by installing the `linux-modules-extra-raspi` package. This can boost\n",
    "the size of the initramfs quite substantially (which was a large part of the\n",
    "motivation in splitting the modules out in the first place). Would this\n",
    "affect the memory usage of `zstd`? In other words, is memory usage determined\n",
    "partly by input size, or solely by compression level?\n",
    "\n",
    "As it happens, our input sizes are specific to each architecture:"
   ]
  },
  {
   "cell_type": "code",
   "execution_count": null,
   "metadata": {},
   "outputs": [],
   "source": [
    "render_table(conn.execute(\"\"\"\n",
    "SELECT DISTINCT arch, input_size\n",
    "FROM results\n",
    "WHERE succeeded = 1\n",
    "\"\"\"))"
   ]
  },
  {
   "cell_type": "markdown",
   "metadata": {},
   "source": [
    "Given this, we can query the memory usage of zstd by compression level and\n",
    "architecture to take a reasonable guess at its memory usage patterns:"
   ]
  },
  {
   "cell_type": "code",
   "execution_count": null,
   "metadata": {},
   "outputs": [],
   "source": [
    "render_xy(conn.execute(\"\"\"\n",
    "SELECT\n",
    "    arch,\n",
    "    level AS \"zstd level\",\n",
    "    comp_max_mem / 1048576.0 AS \"Max. resident size (MB)\"\n",
    "FROM results\n",
    "WHERE succeeded = 1\n",
    "AND compressor = 'zstd'\n",
    "AND options = ''\n",
    "ORDER BY arch, -CAST(level AS INT)\n",
    "\"\"\"))"
   ]
  },
  {
   "cell_type": "markdown",
   "metadata": {},
   "source": [
    "The spread evident in the later compression levels strongly suggests that `zstd`\n",
    "is variable according to input size (particularly given that the archs with the\n",
    "larger inputs consistently use more memory).\n",
    "Admittedly, the spread is extremely small below level `-10`. Nonetheless, the\n",
    "levels from `-3` onwards all skirt very close to the 50MB \"danger zone\" on the\n",
    "Pi Zero 2. Further, given an algorithm that explicitly varies with input size\n",
    "there's no strong guarantee that later versions (or option changes) won't push\n",
    "us slightly over some boundary (like 50MB resident usage).\n",
    "\n",
    "If we selected a compressor with fixed memory usage (O(1) memory complexity),\n",
    "this concern is substantially alleviated. From playing with the interactive\n",
    "charts earlier, we can guess that `lz4` and `gzip` demonstrate such behaviour,\n",
    "but let's confirm this by querying which compressors (and options) demonstrate\n",
    "no more than 1MB of difference between their minimum and maximum memory usage\n",
    "per machine (and arch):"
   ]
  },
  {
   "cell_type": "code",
   "execution_count": null,
   "metadata": {
    "scrolled": false
   },
   "outputs": [],
   "source": [
    "render_table(conn.execute(\"\"\"\n",
    "SELECT\n",
    "    compressor || CASE WHEN options = '' THEN '' ELSE ' ' || options END AS \"Command\",\n",
    "    arch AS \"Architecture\",\n",
    "    (MAX(comp_max_mem) - MIN(comp_max_mem)) / 1048576.0 AS \"Mem Range (MB)\"\n",
    "FROM results\n",
    "WHERE succeeded = 1\n",
    "GROUP BY 1, 2\n",
    "HAVING MAX(comp_max_mem) - MIN(comp_max_mem) <= 1048576\n",
    "\"\"\"))"
   ]
  },
  {
   "cell_type": "markdown",
   "metadata": {},
   "source": [
    "As suspected, `lz4` and `gzip` are (for our limited range of inputs at least),\n",
    "effectively constant memory compressors.\n",
    "Intriguingly, `bzip2` has a `-s` option which, according to the [manpage], is\n",
    "intended to \"reduce memory-usage\". In fact, it seems to switch it from an\n",
    "algorithm which varies (minimally) in memory usage to one that uses a fixed (?)\n",
    "size buffer. It would be ideal if `zstd` had such a switch (not to mention\n",
    "`xz` and `lzip`)!\n",
    "\n",
    "However, we've already eliminated `bzip2` over other performance concerns, and\n",
    "`zstd` from levels `-3` are so close to our 50MB memory limit that we should\n",
    "try and seek a reasonable alternatives if we can. `zstd` levels `-1` and `-2`\n",
    "look good, but their compression ratios may not be competitive against other\n",
    "combinations. How do these compare to the `lz4` and `gzip` compressors (at any\n",
    "of their levels)? We'll limit the query to runs that took less than 30 seconds\n",
    "and less than 50MB of resident memory:\n",
    "\n",
    "[manpage]: https://manpages.ubuntu.com/manpages/jammy/en/man1/bzip2.1.html"
   ]
  },
  {
   "cell_type": "code",
   "execution_count": null,
   "metadata": {},
   "outputs": [],
   "source": [
    "render_multi_xy(conn.execute(\"\"\"\n",
    "SELECT\n",
    "    machine || ' (' || arch || ')' AS title,\n",
    "    compressor AS series,\n",
    "    comp_duration AS \"Elapsed (s)\",\n",
    "    100.0 * output_size / input_size AS \"Compressed size (%)\"\n",
    "FROM results\n",
    "WHERE succeeded = 1\n",
    "AND comp_duration < 60\n",
    "AND comp_max_mem < (100 * 1048576)\n",
    "AND (\n",
    "    compressor IN ('gzip', 'lz4')\n",
    "    OR (\n",
    "        compressor = 'zstd'\n",
    "        AND options = ''\n",
    "        AND level IN ('-1', '-2')\n",
    "    )\n",
    ")\n",
    "ORDER BY title, series\n",
    "\"\"\"))"
   ]
  },
  {
   "cell_type": "markdown",
   "metadata": {},
   "source": [
    "The `-1` and `-2` levels of `zstd` look extremely good from these graphs,\n",
    "typically producing slightly better compression than `gzip` in roughly half the\n",
    "time.\n",
    "By comparison, `lz4` barely seems competitive and I have to wonder whether the\n",
    "move from `gzip` to `lz4` in initramfs-tools was worthwhile (perhaps we'll\n",
    "see some difference when analyzing the decompression performance)?"
   ]
  },
  {
   "cell_type": "markdown",
   "metadata": {},
   "source": [
    "## Decompression comparisons"
   ]
  },
  {
   "cell_type": "markdown",
   "metadata": {},
   "source": [
    "So far we've ignored the decompression side of things entirely. We should have\n",
    "a quick look at the performance of all the compressors to get a quick feel for\n",
    "things:"
   ]
  },
  {
   "cell_type": "code",
   "execution_count": null,
   "metadata": {},
   "outputs": [],
   "source": [
    "@widgets.interact(value=widgets.Dropdown(\n",
    "    options=[\n",
    "        (f'{machine} ({arch})', (machine, arch))\n",
    "        for machine, arch in machines_archs\n",
    "    ],\n",
    "    value=('AMD Ryzen 32GB', 'amd64'),\n",
    "    description='Select a machine'\n",
    "))\n",
    "def compare_compressors(value):\n",
    "    machine, arch = value\n",
    "    query = \"\"\"\n",
    "    SELECT\n",
    "        compressor,\n",
    "        decomp_duration AS \"Elapsed (s)\",\n",
    "        decomp_max_mem / 1048576.0 AS \"Max. resident size (MB)\",\n",
    "        100.0 * output_size / input_size AS \"Compressed size (%)\"\n",
    "    FROM results\n",
    "    WHERE succeeded = 1\n",
    "    AND machine = ?\n",
    "    AND arch = ?\n",
    "    ORDER BY compressor\n",
    "    \"\"\"\n",
    "    render_xyz(conn.execute(query, (machine, arch)))\n",
    "    plt.show()"
   ]
  },
  {
   "cell_type": "markdown",
   "metadata": {},
   "source": [
    "The graphs above do show that `xz`, `lzip` and `bzip2` are all significant\n",
    "outliers in terms of decompression performance: far slower than `lz4`, `gzip`\n",
    "and `zstd`. The LZMA compressors also use serious amounts of memory for\n",
    "decompression at their higher levels (bear in mind that at the higher levels,\n",
    "the Pi Zero 2 failed to run these algorithms and so there's no decompression\n",
    "data for them either).\n",
    "\n",
    "Also notable is that `lz4` is definitively quicker than `gzip` at all levels.\n",
    "Given that the initramfs is presumably read (and thus decompressed) more than\n",
    "it is written (and compressed), this does make a reasonable case for the use of\n",
    "`lz4` (at certain levels; the `-9` level currently used by initramfs-tools is\n",
    "almost certainly not worthwhile in terms of compression performance)."
   ]
  },
  {
   "cell_type": "markdown",
   "metadata": {},
   "source": [
    "## Limits"
   ]
  },
  {
   "cell_type": "markdown",
   "metadata": {},
   "source": [
    "Let's try and quantify some of this with the limits we've explored above:\n",
    "\n",
    "* We're only interested in compressors, options and levels which can\n",
    "  consistently operate in less than 50MB of memory, and in less than 30s\n",
    "  of runtime\n",
    "\n",
    "* We'll define some I/O speeds for reading the initramfs on various\n",
    "  architectures:\n",
    "\n",
    "  - 10MB/s on `armhf` and `arm64` as that's a typical SD card speed\n",
    "  - 250MB/s on `amd64` as that's a reasonable SSD/NVMe speed\n",
    "\n",
    "* 20 reads of the initramfs (boots) per write (per kernel upgrade essentially)\n",
    "  This is highly speculative. It could be 1 (never rebooted except on kernel\n",
    "  upgrades), or effectively infinite (an ephemeral cloud image that only ever\n",
    "  reads the initramfs on boot, but never upgrades it and so never writes it).\n",
    "\n",
    "Starting from these assumptions, here's an interactive table which shows\n",
    "compressors, their options, and a level, limited to those combinations which\n",
    "successfully run in the defined limits, ordered by their overall \"score\":\n",
    "the sum of the compression time, the time to read and decompress the\n",
    "compressed output a certain number of times (20 by default), summed across\n",
    "all sampled machines.\n",
    "Also shown are some of the ranges (duration and compression ratio) achieved\n",
    "by the specified combination.\n",
    "\n",
    "The table is limited to 20 rows of output for brevity. You can modify the\n",
    "limits and reads per write ratio with the sliders to try different limits and\n",
    "scenarios:"
   ]
  },
  {
   "cell_type": "code",
   "execution_count": null,
   "metadata": {},
   "outputs": [],
   "source": [
    "@widgets.interact(\n",
    "    mem_limit=widgets.IntSlider(\n",
    "        value=50, min=10, max=200,\n",
    "        description='Memory limit (MB)',\n",
    "        readout_format='d'),\n",
    "    duration_limit=widgets.IntSlider(\n",
    "        value=30, min=5, max=60,\n",
    "        description='Duration limit (s)',\n",
    "        readout_format='d'),\n",
    "    reads_per_write=widgets.IntSlider(\n",
    "        value=20, min=1, max=100,\n",
    "        description='Reads per write',\n",
    "        readout_format='d'))\n",
    "def compare_compressors(mem_limit=50, duration_limit=30, reads_per_write=20):\n",
    "    query = \"\"\"\n",
    "WITH all_machines AS (\n",
    "    SELECT DISTINCT machine, arch\n",
    "    FROM results\n",
    "),\n",
    "valid_compressors AS (\n",
    "    -- Find only those compressor options and levels\n",
    "    -- which successfully ran within the limits\n",
    "    -- for *all* sampled machines and archs\n",
    "    SELECT compressor, options, level\n",
    "    FROM results\n",
    "    WHERE succeeded = 1\n",
    "    AND comp_max_mem < (? * 1048576)\n",
    "    AND comp_duration < ?\n",
    "    GROUP BY compressor, options, level\n",
    "    HAVING COUNT(*) = (SELECT COUNT(*) FROM all_machines)\n",
    ")\n",
    "SELECT\n",
    "    compressor AS \"Compressor\",\n",
    "    options AS \"Options\",\n",
    "    level AS \"Level\",\n",
    "    ROUND(SUM(\n",
    "        comp_duration +\n",
    "        (\n",
    "            output_size / (\n",
    "                CASE arch\n",
    "                    -- Per arch I/O speeds\n",
    "                    WHEN 'amd64' THEN 250\n",
    "                    WHEN 'armhf' THEN 10\n",
    "                    WHEN 'arm64' THEN 10\n",
    "                    -- Fail (div/0) for undefined archs\n",
    "                    ELSE 0\n",
    "                END * 1048576.0\n",
    "            ) +\n",
    "            decomp_duration\n",
    "        ) * ?\n",
    "    ), 2) AS \"Total 'Score'\",\n",
    "    ROUND(MAX(comp_max_mem) / 1048576.0, 2) AS \"Max res. size (MB)\",\n",
    "    CAST(MIN(comp_duration) AS VARCHAR) || ' - ' ||\n",
    "    CAST(MAX(comp_duration) AS VARCHAR) AS \"Comp. duration (s)\",\n",
    "    CAST(ROUND(MIN(100.0 * output_size / input_size), 2) AS VARCHAR) || ' - ' ||\n",
    "    CAST(ROUND(MAX(100.0 * output_size / input_size), 2) AS VARCHAR) AS \"Ratio (%)\"\n",
    "FROM results\n",
    "    JOIN valid_compressors USING (compressor, options, level)\n",
    "GROUP BY compressor, options, level\n",
    "ORDER BY 4\n",
    "LIMIT 20\n",
    "    \"\"\"\n",
    "    return render_table(conn.execute(query, (\n",
    "        mem_limit, duration_limit, reads_per_write)))"
   ]
  },
  {
   "cell_type": "markdown",
   "metadata": {},
   "source": [
    "Playing around with the queries above, I conclude the following:\n",
    "\n",
    "* The duration limit beyond 20s makes little to no difference to the results\n",
    "\n",
    "* There is largely no point in going beyond `zstd -8` even on huge platforms.\n",
    "  Even maximizing the memory limits and reads per write, the higher levels\n",
    "  like `-10` do not approach the top of the table suggesting the compression\n",
    "  gains made are either negligible or outweighed by increased decompression\n",
    "  time\n",
    "\n",
    "* If memory is no object, `zstd -T0` is unassailable. At few reads per write,\n",
    "  `zstd -T0 -1` wins. At many reads per write, `zstd -T0 -8` wins. However, this\n",
    "  requires a considerable memory commitment (150MB+)\n",
    "\n",
    "* With a 50MB memory limit (our original assumption) `zstd -2` is usually best.\n",
    "  Occasionally `zstd -T0 -1` wins but `-2` has preferable memory usage\n",
    "\n",
    "* If we tighten our memory constraint down to 30MB, `lz4` at a couple of levels\n",
    "  becomes competitive with `zstd -2`\n",
    "\n",
    "* Tighter still, to 20MB, and `lz4` comes to dominate (though `zstd -1` still\n",
    "  appears in the table at various points)"
   ]
  },
  {
   "cell_type": "markdown",
   "metadata": {},
   "source": [
    "## Conclusion\n",
    "\n",
    "`zstd` at the lower levels (`-1` or `-2`) is clearly an excellent choice and\n",
    "likely \"safe\" on the smaller platforms. However it is worth bearing in mind that\n",
    "even a tight limit of 20MB of resident memory still represents nearly 10% of the\n",
    "*available* memory on the Pi Zero 2 arm64 platform at runtime. Hence, we should\n",
    "aim to be as conservative as we reasonably can on memory usage.\n",
    "\n",
    "To that end, given that `lz4` appears to demonstrate more or less constant\n",
    "memory usage (or is at least considerably less affected by input size than\n",
    "`zstd`), it is probably the safest choice for the default initramfs compressor.\n",
    "However, its current configuration in initramfs-tools (using the `-9` level)\n",
    "should be altered. There is no benefit to using such a high level, while there\n",
    "are several downsides including excessive runtime and achieving little to no\n",
    "extra compression. The `-3` or `-4` levels appear to confer the best trade-off\n",
    "between runtime and compression ratio in a variety of configurations."
   ]
  }
 ],
 "metadata": {
  "kernelspec": {
   "display_name": "Python 3",
   "language": "python",
   "name": "python3"
  },
  "language_info": {
   "codemirror_mode": {
    "name": "ipython",
    "version": 3
   },
   "file_extension": ".py",
   "mimetype": "text/x-python",
   "name": "python",
   "nbconvert_exporter": "python",
   "pygments_lexer": "ipython3",
   "version": "3.8.10"
  }
 },
 "nbformat": 4,
 "nbformat_minor": 4
}
